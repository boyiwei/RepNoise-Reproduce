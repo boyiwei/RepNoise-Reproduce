{
 "cells": [
  {
   "cell_type": "code",
   "execution_count": null,
   "metadata": {},
   "outputs": [],
   "source": [
    "import pandas as pd\n",
    "import json\n",
    "file_path = 'results/beavertails_attack__scratch_gpfs_bw1822_nlp_checkpoints_llama-2-ft_repnoise_0.001_beta_3e-5_1k_seed_1.json'\n",
    "data = json.load(open(file_path))\n",
    "\n",
    "\n",
    "data = df1\n",
    "# filtered_data = data[ (data['dataset_size'] == 1000) &\n",
    "#                 (data['seeds'].isin([1, 2, 3, 4, 5])) & (data['lr'] == 5e-5)]\n",
    "print(data['score'].mean())\n",
    "print(data['score'].std())"
   ]
  }
 ],
 "metadata": {
  "language_info": {
   "name": "python"
  }
 },
 "nbformat": 4,
 "nbformat_minor": 2
}
