{
 "cells": [
  {
   "cell_type": "code",
   "execution_count": 2,
   "metadata": {},
   "outputs": [],
   "source": [
    "import pandas as pd\n",
    "import numpy as np\n",
    "from datasets import load_dataset, Dataset, load_from_disk\n",
    "\n",
    "\n",
    "refusal_ds = pd.read_json(path_or_buf='beavertails_with_refusals_train.json')\n",
    "defense_data = Dataset.from_pandas(refusal_ds)\n",
    "\n",
    "attack_data = load_from_disk('BeaverTails_disjoint_attack')\n",
    "\n",
    "testdata = load_dataset(\"/home/bw1822/representation-noising/BeaverTails\", split=\"330k_test\")\n",
    "\n"
   ]
  },
  {
   "cell_type": "code",
   "execution_count": 3,
   "metadata": {},
   "outputs": [],
   "source": [
    "defense_prompt = set(defense_data['prompt'])\n",
    "attack_prompt = set(attack_data['prompt'])\n",
    "\n",
    "assert len(defense_prompt.intersection(attack_prompt)) == 0"
   ]
  },
  {
   "cell_type": "code",
   "execution_count": 4,
   "metadata": {},
   "outputs": [
    {
     "name": "stderr",
     "output_type": "stream",
     "text": [
      "Saving the dataset (1/1 shards): 100%|██████████| 1645/1645 [00:00<00:00, 68026.92 examples/s]\n"
     ]
    },
    {
     "ename": "",
     "evalue": "",
     "output_type": "error",
     "traceback": [
      "\u001b[1;31mThe Kernel crashed while executing code in the the current cell or a previous cell. Please review the code in the cell(s) to identify a possible cause of the failure. Click <a href='https://aka.ms/vscodeJupyterKernelCrash'>here</a> for more info. View Jupyter <a href='command:jupyter.viewOutput'>log</a> for further details."
     ]
    }
   ],
   "source": [
    "testdata = testdata.filter(lambda x: (x['prompt'] not in attack_prompt) and (x['prompt'] not in defense_prompt))\n",
    "testdata = testdata.filter(lambda x: x['is_safe'] == False)\n",
    "# save the testdata\n",
    "testdata.save_to_disk('BeaverTails_disjoint_test')"
   ]
  },
  {
   "cell_type": "code",
   "execution_count": null,
   "metadata": {},
   "outputs": [],
   "source": []
  }
 ],
 "metadata": {
  "kernelspec": {
   "display_name": "rep-noise",
   "language": "python",
   "name": "python3"
  },
  "language_info": {
   "codemirror_mode": {
    "name": "ipython",
    "version": 3
   },
   "file_extension": ".py",
   "mimetype": "text/x-python",
   "name": "python",
   "nbconvert_exporter": "python",
   "pygments_lexer": "ipython3",
   "version": "3.10.14"
  }
 },
 "nbformat": 4,
 "nbformat_minor": 2
}
